{
  "nbformat": 4,
  "nbformat_minor": 0,
  "metadata": {
    "colab": {
      "name": "CW_J036_080820.ipynb",
      "provenance": [],
      "authorship_tag": "ABX9TyNPYCwuTuM/IHZQK3jR9muq"
    },
    "kernelspec": {
      "name": "python3",
      "display_name": "Python 3"
    }
  },
  "cells": [
    {
      "cell_type": "markdown",
      "metadata": {
        "id": "casE4V5MDj3R",
        "colab_type": "text"
      },
      "source": [
        "#PTIME \n",
        "If n is the input size then, if complete computation can be done or expressed in a polynomial(algebraic expression with degree or highest power as a whole number).\n",
        "Time Complexity is O(n^K) where a polynomial of an^k+a1*n^k-1+... will be of order an^k"
      ]
    },
    {
      "cell_type": "markdown",
      "metadata": {
        "id": "nWQ1-_J3DsiR",
        "colab_type": "text"
      },
      "source": [
        "Is negative feasible Negative \n",
        "n^-1/3 -> 1/n^1/3\n",
        "n=27 n=216\n",
        "1/3 , 1/6\n",
        "1/3>1/6\n",
        "Can time for computation decrease as inputs increase ?"
      ]
    },
    {
      "cell_type": "code",
      "metadata": {
        "id": "9rXox9hbDOp-",
        "colab_type": "code",
        "colab": {}
      },
      "source": [
        "import timeit"
      ],
      "execution_count": null,
      "outputs": []
    },
    {
      "cell_type": "code",
      "metadata": {
        "id": "-6QcmmwgFVEd",
        "colab_type": "code",
        "colab": {}
      },
      "source": [
        "start = timeit.default_timer()"
      ],
      "execution_count": null,
      "outputs": []
    },
    {
      "cell_type": "code",
      "metadata": {
        "id": "qXpwecuAF1-5",
        "colab_type": "code",
        "colab": {
          "base_uri": "https://localhost:8080/",
          "height": 34
        },
        "outputId": "ce36f23a-d9dd-4ad4-8c9e-331e0dc198ac"
      },
      "source": [
        "def factorial(a):\n",
        "  if a==1:\n",
        "    return 1\n",
        "  else:\n",
        "    a=a*factorial(a-1)\n",
        "    return a\n",
        "print (factorial(4))  "
      ],
      "execution_count": null,
      "outputs": [
        {
          "output_type": "stream",
          "text": [
            "24\n"
          ],
          "name": "stdout"
        }
      ]
    },
    {
      "cell_type": "code",
      "metadata": {
        "id": "kpWyfHrWHgmU",
        "colab_type": "code",
        "colab": {
          "base_uri": "https://localhost:8080/",
          "height": 50
        },
        "outputId": "ddd684a2-95c2-4aca-f354-6f3112c5af11"
      },
      "source": [
        "%timeit (factorial(5))"
      ],
      "execution_count": null,
      "outputs": [
        {
          "output_type": "stream",
          "text": [
            "The slowest run took 4.47 times longer than the fastest. This could mean that an intermediate result is being cached.\n",
            "1000000 loops, best of 3: 572 ns per loop\n"
          ],
          "name": "stdout"
        }
      ]
    },
    {
      "cell_type": "code",
      "metadata": {
        "id": "gzmAnwsaHjdT",
        "colab_type": "code",
        "colab": {
          "base_uri": "https://localhost:8080/",
          "height": 34
        },
        "outputId": "25066f96-a8fb-4979-f798-1b17920c3232"
      },
      "source": [
        "%timeit (factorial(500))"
      ],
      "execution_count": null,
      "outputs": [
        {
          "output_type": "stream",
          "text": [
            "10000 loops, best of 3: 129 µs per loop\n"
          ],
          "name": "stdout"
        }
      ]
    },
    {
      "cell_type": "code",
      "metadata": {
        "id": "QT251UwNN4h5",
        "colab_type": "code",
        "colab": {
          "base_uri": "https://localhost:8080/",
          "height": 34
        },
        "outputId": "d45cb454-6667-4126-e9af-96d4f431d6e6"
      },
      "source": [
        "%timeit (factorial(700))"
      ],
      "execution_count": null,
      "outputs": [
        {
          "output_type": "stream",
          "text": [
            "1000 loops, best of 3: 196 µs per loop\n"
          ],
          "name": "stdout"
        }
      ]
    },
    {
      "cell_type": "code",
      "metadata": {
        "id": "iXkYUepzOAUm",
        "colab_type": "code",
        "colab": {}
      },
      "source": [
        "def sum(x,y):\n",
        "  return x+y"
      ],
      "execution_count": null,
      "outputs": []
    },
    {
      "cell_type": "code",
      "metadata": {
        "id": "Jr_woJSjOe6C",
        "colab_type": "code",
        "colab": {
          "base_uri": "https://localhost:8080/",
          "height": 50
        },
        "outputId": "11c5c027-0492-40d0-a87a-0f0aa6bde860"
      },
      "source": [
        "%timeit sum(10,90)"
      ],
      "execution_count": null,
      "outputs": [
        {
          "output_type": "stream",
          "text": [
            "The slowest run took 15.77 times longer than the fastest. This could mean that an intermediate result is being cached.\n",
            "10000000 loops, best of 3: 90.5 ns per loop\n"
          ],
          "name": "stdout"
        }
      ]
    },
    {
      "cell_type": "code",
      "metadata": {
        "id": "zXwysgYpOigY",
        "colab_type": "code",
        "colab": {
          "base_uri": "https://localhost:8080/",
          "height": 50
        },
        "outputId": "295d9546-9926-4654-8510-dc1e623abca2"
      },
      "source": [
        "%timeit sum(100,9330)"
      ],
      "execution_count": null,
      "outputs": [
        {
          "output_type": "stream",
          "text": [
            "The slowest run took 70.20 times longer than the fastest. This could mean that an intermediate result is being cached.\n",
            "10000000 loops, best of 3: 101 ns per loop\n"
          ],
          "name": "stdout"
        }
      ]
    },
    {
      "cell_type": "markdown",
      "metadata": {
        "id": "ivCJSn31RJzG",
        "colab_type": "text"
      },
      "source": [
        "\n",
        "\n",
        "NP(Problem) - Solution is in non polynomial time\n",
        "P(Problem) - Max Solution time or Upper Bound is in Polynomial Time O(n^4) -> log n =\n",
        "(n*logn)\n",
        "log 50(base10) - 1.69 ()<n^1\n",
        "log 500(base10) - 2.69 ()<n^1\n",
        "log 5000(base10) - 3.69 ()<n^1\n",
        "for non linear change in n , change is linear\n",
        "\n",
        "\n",
        "NP () - n!\n",
        "5! = 120 -> <5^3\n",
        "50! = 3.0414093e+64 microsecs -> days -> 3.5201497e+53 days\n",
        "500!\n",
        "5000!\n",
        "\n",
        "NP Complete - > All NP hard problems can be approximated to the problem then it is NP Complete.\n",
        "NP hard - > A problem is NP Hard if its solution is in NP, Cannot be verified in Polynomial Time\n",
        "\n",
        "AI Complete or\n",
        "AI Hard Problems\n",
        "SAT - n-SAT (2-SAT)"
      ]
    }
  ]
}