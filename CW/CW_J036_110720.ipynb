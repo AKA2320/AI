{
  "nbformat": 4,
  "nbformat_minor": 0,
  "metadata": {
    "kernelspec": {
      "display_name": "Python 3",
      "language": "python",
      "name": "python3"
    },
    "language_info": {
      "codemirror_mode": {
        "name": "ipython",
        "version": 3
      },
      "file_extension": ".py",
      "mimetype": "text/x-python",
      "name": "python",
      "nbconvert_exporter": "python",
      "pygments_lexer": "ipython3",
      "version": "3.7.7"
    },
    "colab": {
      "name": "CW_J036_110720.ipynb",
      "provenance": []
    }
  },
  "cells": [
    {
      "cell_type": "code",
      "metadata": {
        "id": "8llWbnzQQZUp",
        "colab_type": "code",
        "colab": {}
      },
      "source": [
        " a=5\n",
        "b=6"
      ],
      "execution_count": null,
      "outputs": []
    },
    {
      "cell_type": "code",
      "metadata": {
        "id": "MvmAiSVeQZUz",
        "colab_type": "code",
        "colab": {}
      },
      "source": [
        "def printer():\n",
        "    print (a+b)"
      ],
      "execution_count": null,
      "outputs": []
    },
    {
      "cell_type": "code",
      "metadata": {
        "id": "joL6bk7VQZU3",
        "colab_type": "code",
        "colab": {},
        "outputId": "71848749-20d3-4128-8435-5d906001f42d"
      },
      "source": [
        "printer()"
      ],
      "execution_count": null,
      "outputs": [
        {
          "output_type": "stream",
          "text": [
            "11\n"
          ],
          "name": "stdout"
        }
      ]
    },
    {
      "cell_type": "code",
      "metadata": {
        "id": "cNAxo90BQZU9",
        "colab_type": "code",
        "colab": {}
      },
      "source": [
        "c=5"
      ],
      "execution_count": null,
      "outputs": []
    },
    {
      "cell_type": "code",
      "metadata": {
        "id": "xRqBB2RYQZVC",
        "colab_type": "code",
        "colab": {},
        "outputId": "836518ae-3552-4e1c-f453-e045cb67f17c"
      },
      "source": [
        "c==5"
      ],
      "execution_count": null,
      "outputs": [
        {
          "output_type": "execute_result",
          "data": {
            "text/plain": [
              "True"
            ]
          },
          "metadata": {
            "tags": []
          },
          "execution_count": 16
        }
      ]
    },
    {
      "cell_type": "code",
      "metadata": {
        "id": "_nz8UTlhQZVI",
        "colab_type": "code",
        "colab": {}
      },
      "source": [
        "_a=4\n",
        "__a=7"
      ],
      "execution_count": null,
      "outputs": []
    },
    {
      "cell_type": "code",
      "metadata": {
        "id": "5aeZx_eUQZVP",
        "colab_type": "code",
        "colab": {},
        "outputId": "8436aec7-b3cc-460c-fb3f-da8768bce1a2"
      },
      "source": [
        "class Robot:\n",
        "    \n",
        "    def __init__(self, name):\n",
        "        self.name = name\n",
        "        \n",
        "    def say_hi(self):\n",
        "        print(\"Hi, I am \" + self.name)\n",
        "        \n",
        "class PhysicianRobot(Robot):\n",
        "    pass\n",
        "\n",
        "x = Robot(\"Marvin\")\n",
        "y = PhysicianRobot(\"James\")\n",
        "\n",
        "\n",
        "\n",
        "y.say_hi()\n",
        "x.say_hi()"
      ],
      "execution_count": null,
      "outputs": [
        {
          "output_type": "stream",
          "text": [
            "Hi, I am James\n",
            "Hi, I am Marvin\n"
          ],
          "name": "stdout"
        }
      ]
    },
    {
      "cell_type": "code",
      "metadata": {
        "id": "LUZcCDBGQZVX",
        "colab_type": "code",
        "colab": {},
        "outputId": "2b807054-2e67-4e0c-f7a1-f107642068ec"
      },
      "source": [
        "class boii:\n",
        "    def __init__(self,name):\n",
        "        self.name= name\n",
        "    def print_(self):\n",
        "        print('hi'+self.name)\n",
        "\n",
        "a=boii(\"whoop\")\n",
        "print(a.name)"
      ],
      "execution_count": null,
      "outputs": [
        {
          "output_type": "stream",
          "text": [
            "whoop\n"
          ],
          "name": "stdout"
        }
      ]
    },
    {
      "cell_type": "code",
      "metadata": {
        "id": "TKrmRXIcQZVd",
        "colab_type": "code",
        "colab": {},
        "outputId": "3da722d9-2cac-49df-8816-9d135252ea6c"
      },
      "source": [
        "dir(boii)"
      ],
      "execution_count": null,
      "outputs": [
        {
          "output_type": "execute_result",
          "data": {
            "text/plain": [
              "['__class__',\n",
              " '__delattr__',\n",
              " '__dict__',\n",
              " '__dir__',\n",
              " '__doc__',\n",
              " '__eq__',\n",
              " '__format__',\n",
              " '__ge__',\n",
              " '__getattribute__',\n",
              " '__gt__',\n",
              " '__hash__',\n",
              " '__init__',\n",
              " '__init_subclass__',\n",
              " '__le__',\n",
              " '__lt__',\n",
              " '__module__',\n",
              " '__ne__',\n",
              " '__new__',\n",
              " '__reduce__',\n",
              " '__reduce_ex__',\n",
              " '__repr__',\n",
              " '__setattr__',\n",
              " '__sizeof__',\n",
              " '__str__',\n",
              " '__subclasshook__',\n",
              " '__weakref__',\n",
              " 'print_']"
            ]
          },
          "metadata": {
            "tags": []
          },
          "execution_count": 25
        }
      ]
    },
    {
      "cell_type": "code",
      "metadata": {
        "id": "uaGKX2pkQZVh",
        "colab_type": "code",
        "colab": {}
      },
      "source": [
        "\n",
        "a_=4 # for using reserve keywords\n",
        "__a__=5\n",
        "a=6\n",
        "_a=9 # variable is intended for internal use (private variables)\n",
        "__a=91 #\n"
      ],
      "execution_count": null,
      "outputs": []
    },
    {
      "cell_type": "code",
      "metadata": {
        "id": "JXoEV8kvQZVl",
        "colab_type": "code",
        "colab": {}
      },
      "source": [
        "import pandas as pd"
      ],
      "execution_count": null,
      "outputs": []
    },
    {
      "cell_type": "code",
      "metadata": {
        "id": "d8FR6QjrQZVp",
        "colab_type": "code",
        "colab": {}
      },
      "source": [
        "lis=['a','b','c']\n",
        "a=pd.DataFrame(columns=lis)"
      ],
      "execution_count": null,
      "outputs": []
    },
    {
      "cell_type": "code",
      "metadata": {
        "id": "CglCqHHXQZVs",
        "colab_type": "code",
        "colab": {}
      },
      "source": [
        "a=pd.read_csv('https://people.sc.fsu.edu/~jburkardt/data/csv/addresses.csv')"
      ],
      "execution_count": null,
      "outputs": []
    },
    {
      "cell_type": "code",
      "metadata": {
        "id": "_53vsrgcQZVw",
        "colab_type": "code",
        "colab": {},
        "outputId": "27b9a71c-2b26-40db-8bd5-00246d053d3a"
      },
      "source": [
        "a"
      ],
      "execution_count": null,
      "outputs": [
        {
          "output_type": "execute_result",
          "data": {
            "text/html": [
              "<div>\n",
              "<style scoped>\n",
              "    .dataframe tbody tr th:only-of-type {\n",
              "        vertical-align: middle;\n",
              "    }\n",
              "\n",
              "    .dataframe tbody tr th {\n",
              "        vertical-align: top;\n",
              "    }\n",
              "\n",
              "    .dataframe thead th {\n",
              "        text-align: right;\n",
              "    }\n",
              "</style>\n",
              "<table border=\"1\" class=\"dataframe\">\n",
              "  <thead>\n",
              "    <tr style=\"text-align: right;\">\n",
              "      <th></th>\n",
              "      <th>John</th>\n",
              "      <th>Doe</th>\n",
              "      <th>120 jefferson st.</th>\n",
              "      <th>Riverside</th>\n",
              "      <th>NJ</th>\n",
              "      <th>08075</th>\n",
              "    </tr>\n",
              "  </thead>\n",
              "  <tbody>\n",
              "    <tr>\n",
              "      <th>0</th>\n",
              "      <td>Jack</td>\n",
              "      <td>McGinnis</td>\n",
              "      <td>220 hobo Av.</td>\n",
              "      <td>Phila</td>\n",
              "      <td>PA</td>\n",
              "      <td>9119</td>\n",
              "    </tr>\n",
              "    <tr>\n",
              "      <th>1</th>\n",
              "      <td>John \"Da Man\"</td>\n",
              "      <td>Repici</td>\n",
              "      <td>120 Jefferson St.</td>\n",
              "      <td>Riverside</td>\n",
              "      <td>NJ</td>\n",
              "      <td>8075</td>\n",
              "    </tr>\n",
              "    <tr>\n",
              "      <th>2</th>\n",
              "      <td>Stephen</td>\n",
              "      <td>Tyler</td>\n",
              "      <td>7452 Terrace \"At the Plaza\" road</td>\n",
              "      <td>SomeTown</td>\n",
              "      <td>SD</td>\n",
              "      <td>91234</td>\n",
              "    </tr>\n",
              "    <tr>\n",
              "      <th>3</th>\n",
              "      <td>NaN</td>\n",
              "      <td>Blankman</td>\n",
              "      <td>NaN</td>\n",
              "      <td>SomeTown</td>\n",
              "      <td>SD</td>\n",
              "      <td>298</td>\n",
              "    </tr>\n",
              "    <tr>\n",
              "      <th>4</th>\n",
              "      <td>Joan \"the bone\", Anne</td>\n",
              "      <td>Jet</td>\n",
              "      <td>9th, at Terrace plc</td>\n",
              "      <td>Desert City</td>\n",
              "      <td>CO</td>\n",
              "      <td>123</td>\n",
              "    </tr>\n",
              "  </tbody>\n",
              "</table>\n",
              "</div>"
            ],
            "text/plain": [
              "                    John       Doe                 120 jefferson st.  \\\n",
              "0                   Jack  McGinnis                      220 hobo Av.   \n",
              "1          John \"Da Man\"    Repici                 120 Jefferson St.   \n",
              "2                Stephen     Tyler  7452 Terrace \"At the Plaza\" road   \n",
              "3                    NaN  Blankman                               NaN   \n",
              "4  Joan \"the bone\", Anne       Jet               9th, at Terrace plc   \n",
              "\n",
              "     Riverside   NJ   08075  \n",
              "0        Phila   PA    9119  \n",
              "1    Riverside   NJ    8075  \n",
              "2     SomeTown   SD   91234  \n",
              "3     SomeTown   SD     298  \n",
              "4  Desert City   CO     123  "
            ]
          },
          "metadata": {
            "tags": []
          },
          "execution_count": 8
        }
      ]
    },
    {
      "cell_type": "code",
      "metadata": {
        "id": "bYqinJWhQZVz",
        "colab_type": "code",
        "colab": {}
      },
      "source": [
        ""
      ],
      "execution_count": null,
      "outputs": []
    }
  ]
}