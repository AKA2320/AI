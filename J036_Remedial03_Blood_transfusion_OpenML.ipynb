{
  "nbformat": 4,
  "nbformat_minor": 0,
  "metadata": {
    "colab": {
      "name": "J036_Remedial03_Blood_transfusion_OpenML.ipynb",
      "provenance": [],
      "collapsed_sections": []
    },
    "kernelspec": {
      "name": "python3",
      "display_name": "Python 3"
    }
  },
  "cells": [
    {
      "cell_type": "code",
      "metadata": {
        "id": "37qQSshhfeXx",
        "outputId": "9da894de-736d-4631-a0de-4b763d7c1720",
        "colab": {
          "base_uri": "https://localhost:8080/"
        }
      },
      "source": [
        "!pip install -i https://test.pypi.org/simple/ all-in-one-ml==0.0.3"
      ],
      "execution_count": null,
      "outputs": [
        {
          "output_type": "stream",
          "text": [
            "Looking in indexes: https://test.pypi.org/simple/\n",
            "Requirement already satisfied: all-in-one-ml==0.0.3 in /usr/local/lib/python3.6/dist-packages (0.0.3)\n",
            "Requirement already satisfied: sklearn in /usr/local/lib/python3.6/dist-packages (from all-in-one-ml==0.0.3) (0.0)\n",
            "Requirement already satisfied: pandas in /usr/local/lib/python3.6/dist-packages (from all-in-one-ml==0.0.3) (1.1.3)\n",
            "Requirement already satisfied: matplotlib in /usr/local/lib/python3.6/dist-packages (from all-in-one-ml==0.0.3) (3.2.2)\n",
            "Requirement already satisfied: seaborn in /usr/local/lib/python3.6/dist-packages (from all-in-one-ml==0.0.3) (0.11.0)\n",
            "Requirement already satisfied: numpy in /usr/local/lib/python3.6/dist-packages (from all-in-one-ml==0.0.3) (1.18.5)\n",
            "Requirement already satisfied: keras in /usr/local/lib/python3.6/dist-packages (from all-in-one-ml==0.0.3) (2.4.3)\n",
            "Requirement already satisfied: scikit-learn in /usr/local/lib/python3.6/dist-packages (from sklearn->all-in-one-ml==0.0.3) (0.22.2.post1)\n",
            "Requirement already satisfied: pytz>=2017.2 in /usr/local/lib/python3.6/dist-packages (from pandas->all-in-one-ml==0.0.3) (2018.9)\n",
            "Requirement already satisfied: python-dateutil>=2.7.3 in /usr/local/lib/python3.6/dist-packages (from pandas->all-in-one-ml==0.0.3) (2.8.1)\n",
            "Requirement already satisfied: kiwisolver>=1.0.1 in /usr/local/lib/python3.6/dist-packages (from matplotlib->all-in-one-ml==0.0.3) (1.2.0)\n",
            "Requirement already satisfied: cycler>=0.10 in /usr/local/lib/python3.6/dist-packages (from matplotlib->all-in-one-ml==0.0.3) (0.10.0)\n",
            "Requirement already satisfied: pyparsing!=2.0.4,!=2.1.2,!=2.1.6,>=2.0.1 in /usr/local/lib/python3.6/dist-packages (from matplotlib->all-in-one-ml==0.0.3) (2.4.7)\n",
            "Requirement already satisfied: scipy>=1.0 in /usr/local/lib/python3.6/dist-packages (from seaborn->all-in-one-ml==0.0.3) (1.4.1)\n",
            "Requirement already satisfied: h5py in /usr/local/lib/python3.6/dist-packages (from keras->all-in-one-ml==0.0.3) (2.10.0)\n",
            "Requirement already satisfied: pyyaml in /usr/local/lib/python3.6/dist-packages (from keras->all-in-one-ml==0.0.3) (3.13)\n",
            "Requirement already satisfied: joblib>=0.11 in /usr/local/lib/python3.6/dist-packages (from scikit-learn->sklearn->all-in-one-ml==0.0.3) (0.17.0)\n",
            "Requirement already satisfied: six>=1.5 in /usr/local/lib/python3.6/dist-packages (from python-dateutil>=2.7.3->pandas->all-in-one-ml==0.0.3) (1.15.0)\n"
          ],
          "name": "stdout"
        }
      ]
    },
    {
      "cell_type": "code",
      "metadata": {
        "id": "ml8MbuC5gx18"
      },
      "source": [
        "from all_in_one_ml import beginner\n",
        "from sklearn import datasets\n",
        "import pandas as pd"
      ],
      "execution_count": null,
      "outputs": []
    },
    {
      "cell_type": "code",
      "metadata": {
        "id": "umWGVnt1oMd7"
      },
      "source": [
        "data = datasets.fetch_openml('blood-transfusion-service-center')"
      ],
      "execution_count": null,
      "outputs": []
    },
    {
      "cell_type": "code",
      "metadata": {
        "id": "AmgKpVoor65x"
      },
      "source": [
        "df = pd.DataFrame(data.data,columns = data.feature_names)\n",
        "df['class'] = data.target"
      ],
      "execution_count": null,
      "outputs": []
    },
    {
      "cell_type": "code",
      "metadata": {
        "id": "OClnvuW3tSf7",
        "outputId": "0fced5bd-14d0-4f9a-8039-b8406f4f30e4",
        "colab": {
          "base_uri": "https://localhost:8080/",
          "height": 202
        }
      },
      "source": [
        "df.head()"
      ],
      "execution_count": null,
      "outputs": [
        {
          "output_type": "execute_result",
          "data": {
            "text/html": [
              "<div>\n",
              "<style scoped>\n",
              "    .dataframe tbody tr th:only-of-type {\n",
              "        vertical-align: middle;\n",
              "    }\n",
              "\n",
              "    .dataframe tbody tr th {\n",
              "        vertical-align: top;\n",
              "    }\n",
              "\n",
              "    .dataframe thead th {\n",
              "        text-align: right;\n",
              "    }\n",
              "</style>\n",
              "<table border=\"1\" class=\"dataframe\">\n",
              "  <thead>\n",
              "    <tr style=\"text-align: right;\">\n",
              "      <th></th>\n",
              "      <th>V1</th>\n",
              "      <th>V2</th>\n",
              "      <th>V3</th>\n",
              "      <th>V4</th>\n",
              "      <th>class</th>\n",
              "    </tr>\n",
              "  </thead>\n",
              "  <tbody>\n",
              "    <tr>\n",
              "      <th>0</th>\n",
              "      <td>2.0</td>\n",
              "      <td>50.0</td>\n",
              "      <td>12500.0</td>\n",
              "      <td>98.0</td>\n",
              "      <td>2</td>\n",
              "    </tr>\n",
              "    <tr>\n",
              "      <th>1</th>\n",
              "      <td>0.0</td>\n",
              "      <td>13.0</td>\n",
              "      <td>3250.0</td>\n",
              "      <td>28.0</td>\n",
              "      <td>2</td>\n",
              "    </tr>\n",
              "    <tr>\n",
              "      <th>2</th>\n",
              "      <td>1.0</td>\n",
              "      <td>16.0</td>\n",
              "      <td>4000.0</td>\n",
              "      <td>35.0</td>\n",
              "      <td>2</td>\n",
              "    </tr>\n",
              "    <tr>\n",
              "      <th>3</th>\n",
              "      <td>2.0</td>\n",
              "      <td>20.0</td>\n",
              "      <td>5000.0</td>\n",
              "      <td>45.0</td>\n",
              "      <td>2</td>\n",
              "    </tr>\n",
              "    <tr>\n",
              "      <th>4</th>\n",
              "      <td>1.0</td>\n",
              "      <td>24.0</td>\n",
              "      <td>6000.0</td>\n",
              "      <td>77.0</td>\n",
              "      <td>1</td>\n",
              "    </tr>\n",
              "  </tbody>\n",
              "</table>\n",
              "</div>"
            ],
            "text/plain": [
              "    V1    V2       V3    V4 class\n",
              "0  2.0  50.0  12500.0  98.0     2\n",
              "1  0.0  13.0   3250.0  28.0     2\n",
              "2  1.0  16.0   4000.0  35.0     2\n",
              "3  2.0  20.0   5000.0  45.0     2\n",
              "4  1.0  24.0   6000.0  77.0     1"
            ]
          },
          "metadata": {
            "tags": []
          },
          "execution_count": 20
        }
      ]
    },
    {
      "cell_type": "code",
      "metadata": {
        "id": "4sCHISIbtkqV"
      },
      "source": [
        "x = df.drop(columns=['class'])\n",
        "y = df['class']"
      ],
      "execution_count": null,
      "outputs": []
    },
    {
      "cell_type": "code",
      "metadata": {
        "id": "prY8p-M_kSp2",
        "outputId": "7a960abd-f44e-436c-cca1-4cb0ea65eb3f",
        "colab": {
          "base_uri": "https://localhost:8080/"
        }
      },
      "source": [
        "y_hot = beginner.one_hot(x,y,onlyoutcome=True)\n",
        "print(x,y_hot)"
      ],
      "execution_count": null,
      "outputs": [
        {
          "output_type": "stream",
          "text": [
            "       V1    V2       V3    V4\n",
            "0     2.0  50.0  12500.0  98.0\n",
            "1     0.0  13.0   3250.0  28.0\n",
            "2     1.0  16.0   4000.0  35.0\n",
            "3     2.0  20.0   5000.0  45.0\n",
            "4     1.0  24.0   6000.0  77.0\n",
            "..    ...   ...      ...   ...\n",
            "743  23.0   2.0    500.0  38.0\n",
            "744  21.0   2.0    500.0  52.0\n",
            "745  23.0   3.0    750.0  62.0\n",
            "746  39.0   1.0    250.0  39.0\n",
            "747  72.0   1.0    250.0  72.0\n",
            "\n",
            "[748 rows x 4 columns]      1  2\n",
            "0    0  1\n",
            "1    0  1\n",
            "2    0  1\n",
            "3    0  1\n",
            "4    1  0\n",
            "..  .. ..\n",
            "743  1  0\n",
            "744  1  0\n",
            "745  1  0\n",
            "746  1  0\n",
            "747  1  0\n",
            "\n",
            "[748 rows x 2 columns]\n"
          ],
          "name": "stdout"
        }
      ]
    },
    {
      "cell_type": "code",
      "metadata": {
        "id": "Bi7EqujclEPp",
        "outputId": "8e8db97d-b629-4ac5-b80c-14531a31030b",
        "colab": {
          "base_uri": "https://localhost:8080/"
        }
      },
      "source": [
        "x_train,x_test,y_train,y_test = beginner.split_dataset(x,y_hot,0.2,8)"
      ],
      "execution_count": null,
      "outputs": [
        {
          "output_type": "stream",
          "text": [
            "(598, 4) (598, 2) (150, 4) (150, 2)\n"
          ],
          "name": "stdout"
        }
      ]
    },
    {
      "cell_type": "code",
      "metadata": {
        "id": "u2sDazVOlP0o",
        "outputId": "e7396711-e0b3-4f73-96b3-e09a2e2e7c5f",
        "colab": {
          "base_uri": "https://localhost:8080/",
          "height": 202
        }
      },
      "source": [
        "x_train.head()"
      ],
      "execution_count": null,
      "outputs": [
        {
          "output_type": "execute_result",
          "data": {
            "text/html": [
              "<div>\n",
              "<style scoped>\n",
              "    .dataframe tbody tr th:only-of-type {\n",
              "        vertical-align: middle;\n",
              "    }\n",
              "\n",
              "    .dataframe tbody tr th {\n",
              "        vertical-align: top;\n",
              "    }\n",
              "\n",
              "    .dataframe thead th {\n",
              "        text-align: right;\n",
              "    }\n",
              "</style>\n",
              "<table border=\"1\" class=\"dataframe\">\n",
              "  <thead>\n",
              "    <tr style=\"text-align: right;\">\n",
              "      <th></th>\n",
              "      <th>V1</th>\n",
              "      <th>V2</th>\n",
              "      <th>V3</th>\n",
              "      <th>V4</th>\n",
              "    </tr>\n",
              "  </thead>\n",
              "  <tbody>\n",
              "    <tr>\n",
              "      <th>274</th>\n",
              "      <td>4.0</td>\n",
              "      <td>5.0</td>\n",
              "      <td>1250.0</td>\n",
              "      <td>58.0</td>\n",
              "    </tr>\n",
              "    <tr>\n",
              "      <th>547</th>\n",
              "      <td>2.0</td>\n",
              "      <td>3.0</td>\n",
              "      <td>750.0</td>\n",
              "      <td>11.0</td>\n",
              "    </tr>\n",
              "    <tr>\n",
              "      <th>475</th>\n",
              "      <td>26.0</td>\n",
              "      <td>5.0</td>\n",
              "      <td>1250.0</td>\n",
              "      <td>49.0</td>\n",
              "    </tr>\n",
              "    <tr>\n",
              "      <th>370</th>\n",
              "      <td>4.0</td>\n",
              "      <td>2.0</td>\n",
              "      <td>500.0</td>\n",
              "      <td>51.0</td>\n",
              "    </tr>\n",
              "    <tr>\n",
              "      <th>286</th>\n",
              "      <td>4.0</td>\n",
              "      <td>2.0</td>\n",
              "      <td>500.0</td>\n",
              "      <td>23.0</td>\n",
              "    </tr>\n",
              "  </tbody>\n",
              "</table>\n",
              "</div>"
            ],
            "text/plain": [
              "       V1   V2      V3    V4\n",
              "274   4.0  5.0  1250.0  58.0\n",
              "547   2.0  3.0   750.0  11.0\n",
              "475  26.0  5.0  1250.0  49.0\n",
              "370   4.0  2.0   500.0  51.0\n",
              "286   4.0  2.0   500.0  23.0"
            ]
          },
          "metadata": {
            "tags": []
          },
          "execution_count": 24
        }
      ]
    },
    {
      "cell_type": "code",
      "metadata": {
        "id": "ThF2tyIAlQY7",
        "outputId": "8aca6411-47c5-4a9a-c598-6adac51677f3",
        "colab": {
          "base_uri": "https://localhost:8080/",
          "height": 202
        }
      },
      "source": [
        "y_train.head()"
      ],
      "execution_count": null,
      "outputs": [
        {
          "output_type": "execute_result",
          "data": {
            "text/html": [
              "<div>\n",
              "<style scoped>\n",
              "    .dataframe tbody tr th:only-of-type {\n",
              "        vertical-align: middle;\n",
              "    }\n",
              "\n",
              "    .dataframe tbody tr th {\n",
              "        vertical-align: top;\n",
              "    }\n",
              "\n",
              "    .dataframe thead th {\n",
              "        text-align: right;\n",
              "    }\n",
              "</style>\n",
              "<table border=\"1\" class=\"dataframe\">\n",
              "  <thead>\n",
              "    <tr style=\"text-align: right;\">\n",
              "      <th></th>\n",
              "      <th>1</th>\n",
              "      <th>2</th>\n",
              "    </tr>\n",
              "  </thead>\n",
              "  <tbody>\n",
              "    <tr>\n",
              "      <th>274</th>\n",
              "      <td>1</td>\n",
              "      <td>0</td>\n",
              "    </tr>\n",
              "    <tr>\n",
              "      <th>547</th>\n",
              "      <td>1</td>\n",
              "      <td>0</td>\n",
              "    </tr>\n",
              "    <tr>\n",
              "      <th>475</th>\n",
              "      <td>0</td>\n",
              "      <td>1</td>\n",
              "    </tr>\n",
              "    <tr>\n",
              "      <th>370</th>\n",
              "      <td>0</td>\n",
              "      <td>1</td>\n",
              "    </tr>\n",
              "    <tr>\n",
              "      <th>286</th>\n",
              "      <td>1</td>\n",
              "      <td>0</td>\n",
              "    </tr>\n",
              "  </tbody>\n",
              "</table>\n",
              "</div>"
            ],
            "text/plain": [
              "     1  2\n",
              "274  1  0\n",
              "547  1  0\n",
              "475  0  1\n",
              "370  0  1\n",
              "286  1  0"
            ]
          },
          "metadata": {
            "tags": []
          },
          "execution_count": 25
        }
      ]
    },
    {
      "cell_type": "code",
      "metadata": {
        "id": "GSOINIB3lT3N",
        "outputId": "bafee95c-55cb-40a6-ba42-26a5a17e527b",
        "colab": {
          "base_uri": "https://localhost:8080/"
        }
      },
      "source": [
        "model,history = beginner.build_compile_fit_model(x_train,y_train,'classification',30,3,[100,100,100],['relu','relu','relu'])"
      ],
      "execution_count": null,
      "outputs": [
        {
          "output_type": "stream",
          "text": [
            "Model: \"sequential_1\"\n",
            "_________________________________________________________________\n",
            "Layer (type)                 Output Shape              Param #   \n",
            "=================================================================\n",
            "dense_4 (Dense)              (None, 100)               500       \n",
            "_________________________________________________________________\n",
            "dense_5 (Dense)              (None, 100)               10100     \n",
            "_________________________________________________________________\n",
            "dense_6 (Dense)              (None, 100)               10100     \n",
            "_________________________________________________________________\n",
            "dense_7 (Dense)              (None, 2)                 202       \n",
            "=================================================================\n",
            "Total params: 20,902\n",
            "Trainable params: 20,902\n",
            "Non-trainable params: 0\n",
            "_________________________________________________________________\n",
            "Epoch 1/30\n",
            "15/15 [==============================] - 0s 11ms/step - loss: 25.0907 - accuracy: 0.6381 - val_loss: 22.1344 - val_accuracy: 0.2917\n",
            "Epoch 2/30\n",
            "15/15 [==============================] - 0s 3ms/step - loss: 10.1853 - accuracy: 0.6381 - val_loss: 8.2833 - val_accuracy: 0.4667\n",
            "Epoch 3/30\n",
            "15/15 [==============================] - 0s 2ms/step - loss: 3.5168 - accuracy: 0.6778 - val_loss: 1.0201 - val_accuracy: 0.7250\n",
            "Epoch 4/30\n",
            "15/15 [==============================] - 0s 2ms/step - loss: 2.1604 - accuracy: 0.7218 - val_loss: 5.4632 - val_accuracy: 0.5000\n",
            "Epoch 5/30\n",
            "15/15 [==============================] - 0s 3ms/step - loss: 4.0354 - accuracy: 0.6360 - val_loss: 2.4184 - val_accuracy: 0.6583\n",
            "Epoch 6/30\n",
            "15/15 [==============================] - 0s 2ms/step - loss: 2.5608 - accuracy: 0.7301 - val_loss: 2.6682 - val_accuracy: 0.8167\n",
            "Epoch 7/30\n",
            "15/15 [==============================] - 0s 2ms/step - loss: 2.6831 - accuracy: 0.6820 - val_loss: 0.5593 - val_accuracy: 0.8500\n",
            "Epoch 8/30\n",
            "15/15 [==============================] - 0s 2ms/step - loss: 2.1390 - accuracy: 0.7155 - val_loss: 1.4808 - val_accuracy: 0.7000\n",
            "Epoch 9/30\n",
            "15/15 [==============================] - 0s 3ms/step - loss: 1.4934 - accuracy: 0.7092 - val_loss: 1.0017 - val_accuracy: 0.7167\n",
            "Epoch 10/30\n",
            "15/15 [==============================] - 0s 3ms/step - loss: 3.4594 - accuracy: 0.6464 - val_loss: 2.2867 - val_accuracy: 0.8167\n",
            "Epoch 11/30\n",
            "15/15 [==============================] - 0s 3ms/step - loss: 6.1737 - accuracy: 0.6862 - val_loss: 9.9093 - val_accuracy: 0.3750\n",
            "Epoch 12/30\n",
            "15/15 [==============================] - 0s 3ms/step - loss: 10.2182 - accuracy: 0.5502 - val_loss: 9.8909 - val_accuracy: 0.8167\n",
            "Epoch 13/30\n",
            "15/15 [==============================] - 0s 3ms/step - loss: 15.9745 - accuracy: 0.6109 - val_loss: 11.9436 - val_accuracy: 0.8167\n",
            "Epoch 14/30\n",
            "15/15 [==============================] - 0s 3ms/step - loss: 12.4562 - accuracy: 0.5983 - val_loss: 2.4496 - val_accuracy: 0.6417\n",
            "Epoch 15/30\n",
            "15/15 [==============================] - 0s 2ms/step - loss: 3.2052 - accuracy: 0.6506 - val_loss: 1.7911 - val_accuracy: 0.8167\n",
            "Epoch 16/30\n",
            "15/15 [==============================] - 0s 3ms/step - loss: 1.3534 - accuracy: 0.7343 - val_loss: 1.1977 - val_accuracy: 0.7000\n",
            "Epoch 17/30\n",
            "15/15 [==============================] - 0s 4ms/step - loss: 2.6505 - accuracy: 0.6778 - val_loss: 5.6831 - val_accuracy: 0.4917\n",
            "Epoch 18/30\n",
            "15/15 [==============================] - 0s 3ms/step - loss: 2.6794 - accuracy: 0.6423 - val_loss: 1.7272 - val_accuracy: 0.6750\n",
            "Epoch 19/30\n",
            "15/15 [==============================] - 0s 3ms/step - loss: 2.5923 - accuracy: 0.7301 - val_loss: 0.5439 - val_accuracy: 0.8583\n",
            "Epoch 20/30\n",
            "15/15 [==============================] - 0s 2ms/step - loss: 2.2534 - accuracy: 0.6632 - val_loss: 3.4791 - val_accuracy: 0.5333\n",
            "Epoch 21/30\n",
            "15/15 [==============================] - 0s 3ms/step - loss: 2.6509 - accuracy: 0.6548 - val_loss: 1.2058 - val_accuracy: 0.8167\n",
            "Epoch 22/30\n",
            "15/15 [==============================] - 0s 2ms/step - loss: 2.6638 - accuracy: 0.6736 - val_loss: 3.1321 - val_accuracy: 0.8167\n",
            "Epoch 23/30\n",
            "15/15 [==============================] - 0s 3ms/step - loss: 3.2126 - accuracy: 0.6778 - val_loss: 0.7165 - val_accuracy: 0.8167\n",
            "Epoch 24/30\n",
            "15/15 [==============================] - 0s 2ms/step - loss: 1.5120 - accuracy: 0.7322 - val_loss: 2.5471 - val_accuracy: 0.8167\n",
            "Epoch 25/30\n",
            "15/15 [==============================] - 0s 2ms/step - loss: 3.7183 - accuracy: 0.6820 - val_loss: 8.1648 - val_accuracy: 0.4083\n",
            "Epoch 26/30\n",
            "15/15 [==============================] - 0s 3ms/step - loss: 2.8053 - accuracy: 0.6987 - val_loss: 6.5558 - val_accuracy: 0.4417\n",
            "Epoch 27/30\n",
            "15/15 [==============================] - 0s 3ms/step - loss: 6.1908 - accuracy: 0.5669 - val_loss: 0.8726 - val_accuracy: 0.8167\n",
            "Epoch 28/30\n",
            "15/15 [==============================] - 0s 2ms/step - loss: 5.4045 - accuracy: 0.6674 - val_loss: 1.7434 - val_accuracy: 0.8167\n",
            "Epoch 29/30\n",
            "15/15 [==============================] - 0s 2ms/step - loss: 2.0252 - accuracy: 0.6653 - val_loss: 0.8064 - val_accuracy: 0.7583\n",
            "Epoch 30/30\n",
            "15/15 [==============================] - 0s 3ms/step - loss: 1.1052 - accuracy: 0.7280 - val_loss: 1.9112 - val_accuracy: 0.6417\n"
          ],
          "name": "stdout"
        }
      ]
    },
    {
      "cell_type": "code",
      "metadata": {
        "id": "54fMbUdcllD6",
        "outputId": "e5c5b911-4e9b-457d-e635-d6cd401fddd2",
        "colab": {
          "base_uri": "https://localhost:8080/"
        }
      },
      "source": [
        "beginner.get_accuracy(x_test,y_test,model)"
      ],
      "execution_count": null,
      "outputs": [
        {
          "output_type": "stream",
          "text": [
            "5/5 [==============================] - 0s 2ms/step - loss: 1.4153 - accuracy: 0.6133\n"
          ],
          "name": "stdout"
        }
      ]
    },
    {
      "cell_type": "code",
      "metadata": {
        "id": "KgB2aWjBlwZX",
        "outputId": "36e35dfa-e9da-4c2c-99b6-70d99a4fff81",
        "colab": {
          "base_uri": "https://localhost:8080/",
          "height": 295
        }
      },
      "source": [
        "beginner.accuracy_vs_valaccuracy(model,history,30)"
      ],
      "execution_count": null,
      "outputs": [
        {
          "output_type": "display_data",
          "data": {
            "image/png": "[encoded data removed]",
            "text/plain": [
              "<Figure size 432x288 with 1 Axes>"
            ]
          },
          "metadata": {
            "tags": [],
            "needs_background": "light"
          }
        }
      ]
    },
    {
      "cell_type": "code",
      "metadata": {
        "id": "PVkSCyqGlwTE",
        "outputId": "b2af0b3e-ad61-4735-dfb6-e147cad77e73",
        "colab": {
          "base_uri": "https://localhost:8080/",
          "height": 295
        }
      },
      "source": [
        "beginner.loss_vs_valloss(model,history,30)"
      ],
      "execution_count": null,
      "outputs": [
        {
          "output_type": "display_data",
          "data": {
            "image/png": "[encoded data removed]",
            "text/plain": [
              "<Figure size 432x288 with 1 Axes>"
            ]
          },
          "metadata": {
            "tags": [],
            "needs_background": "light"
          }
        }
      ]
    }
  ]
}