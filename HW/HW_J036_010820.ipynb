{
  "nbformat": 4,
  "nbformat_minor": 0,
  "metadata": {
    "colab": {
      "name": "HW_J036_010820.ipynb",
      "provenance": [],
      "authorship_tag": "ABX9TyNJ3s56+hYAmH6mvdCti9+4"
    },
    "kernelspec": {
      "name": "python3",
      "display_name": "Python 3"
    }
  },
  "cells": [
    {
      "cell_type": "markdown",
      "metadata": {
        "id": "z2llPxztUjSb",
        "colab_type": "text"
      },
      "source": [
        "##Validating Postal Codes\n",
        "A valid postal code P have to fullfil both below requirements:\n",
        "\n",
        " P must be a number in the range from 100000 to 999999 inclusive.\n",
        " P must not contain more than one alternating repetitive digit pair.\n",
        "Alternating repetitive digits are digits which repeat immediately after the next digit. In other words, an alternating repetitive digit pair is formed by two equal digits that have just a single digit between them.\n",
        "\n",
        "Your task is to provide two regular expressions regex_integer_in_range and regex_alternating_repetitive_digit_pair. Where:\n",
        "\n",
        "regex_integer_in_range should match only integers range from 100000 to 999999 inclusive\n",
        "\n",
        "regex_alternating_repetitive_digit_pair should find alternating repetitive digits pairs in a given string."
      ]
    },
    {
      "cell_type": "code",
      "metadata": {
        "id": "wleyKz9DUZMs",
        "colab_type": "code",
        "colab": {}
      },
      "source": [
        "regex_integer_in_range = r\"_________\"\t# Do not delete 'r'.\n",
        "regex_alternating_repetitive_digit_pair = r\"_________\"\t# Do not delete 'r'.\n",
        "\n",
        "import sys\n",
        "stdin=sys.stdin\n",
        "\n",
        "import re\n",
        "line=stdin.readline().strip()\n",
        "print(re.match(\"^[1-9][0-9]{5}$\",line) !=None and [ord(line[i])-ord(line[i+2]) for i in range(4)].count(0)<=1)\n",
        "\n",
        "\n",
        "import re\n",
        "P = input()\n",
        "\n",
        "print (bool(re.match(regex_integer_in_range, P)) \n",
        "and len(re.findall(regex_alternating_repetitive_digit_pair, P)) < 2)"
      ],
      "execution_count": null,
      "outputs": []
    },
    {
      "cell_type": "markdown",
      "metadata": {
        "id": "jPQQTr5EU3v7",
        "colab_type": "text"
      },
      "source": [
        "##The Coin Change Problem\n",
        "You are working at the cash counter at a fun-fair, and you have different types of coins available to you in infinite quantities. The value of each coin is already given. Can you determine the number of ways of making change for a particular number of units using the given types of coins?\n",
        "\n",
        "\n",
        "For example, if you have 4 types of coins, and the value of each type is given as 8,3,2,1 respectively, you can make change for 3 units in three ways:{1,1,1} ,{1,2} and {3} ."
      ]
    },
    {
      "cell_type": "code",
      "metadata": {
        "id": "u9-xZlEsUZnX",
        "colab_type": "code",
        "colab": {}
      },
      "source": [
        "#!/bin/python3\n",
        "\n",
        "import math\n",
        "import os\n",
        "import random\n",
        "import re\n",
        "import sys\n",
        "\n",
        "#\n",
        "# Complete the 'getWays' function below.\n",
        "#\n",
        "# The function is expected to return a LONG_INTEGER.\n",
        "# The function accepts following parameters:\n",
        "#  1. INTEGER n\n",
        "#  2. LONG_INTEGER_ARRAY c\n",
        "#\n",
        "\n",
        "def getWays(n, c):\n",
        "    ways = [0] * (n + 1); \n",
        "    ways[0] = 1; \n",
        "    for i in range(len(c)): \n",
        "        for j in range(len(ways)): \n",
        "            if (c[i] <= j): \n",
        "                ways[j] += ways[(int)(j - c[i])]; \n",
        "    return ways[n]; \n",
        "if _name_ == '_main_':\n",
        "    fptr = open(os.environ['OUTPUT_PATH'], 'w')\n",
        "\n",
        "    first_multiple_input = input().rstrip().split()\n",
        "\n",
        "    n = int(first_multiple_input[0])\n",
        "\n",
        "    m = int(first_multiple_input[1])\n",
        "\n",
        "    c = list(map(int, input().rstrip().split()))\n",
        "\n",
        "    # Print the number of ways of making change for 'n' units using coins having the values given by 'c'\n",
        "\n",
        "    ways = getWays(n, c)\n",
        "\n",
        "    fptr.write(str(ways) + '\\n')\n",
        "\n",
        "    fptr.close()"
      ],
      "execution_count": null,
      "outputs": []
    },
    {
      "cell_type": "markdown",
      "metadata": {
        "id": "yTaDvHfiVaKy",
        "colab_type": "text"
      },
      "source": [
        "##Sherlock and Cost\n",
        "\n",
        "In this challenge, you will be given an array B and must determine an array A. There is a special rule: For all i, A[i]<=B[i] . That is, A[i]  can be any number you choose such that 1<=A[i]<=B[i]. Your task is to select a series of A[i] given B[i] such that the sum of the absolute difference of consecutive pairs of A is maximized. This will be the array's cost, and will be represented by the variable S below."
      ]
    },
    {
      "cell_type": "code",
      "metadata": {
        "id": "inrnVlIsB-it",
        "colab_type": "code",
        "colab": {}
      },
      "source": [
        "#!/bin/python3\n",
        "\n",
        "import math\n",
        "import os\n",
        "import random\n",
        "import re\n",
        "import sys\n",
        "\n",
        "# Complete the cost function below.\n",
        "def cost(B):\n",
        "  n = len(B)\n",
        "  a,b=0,0\n",
        "  for i in range(1,n): \n",
        "    big=abs(B[i-1] - 1)\n",
        "    small=abs(B[i] - 1)\n",
        "    b1=max(b, a+big)\n",
        "    a1=max(a, b+small)\n",
        "    a=a1\n",
        "    b=b1\n",
        "  return max (a,b)\n",
        "\n",
        "\n",
        "if __name__ == '__main__':\n",
        "  fptr = open(os.environ['OUTPUT_PATH'], 'w')\n",
        "  t = int(input())\n",
        "\n",
        "  for t_itr in range(t):\n",
        "    n = int(input())\n",
        "    B = list(map(int, input().rstrip().split()))\n",
        "    result = cost(B)\n",
        "    fptr.write(str(result) + '\\n')\n",
        "  fptr.close()"
      ],
      "execution_count": null,
      "outputs": []
    }
  ]
}