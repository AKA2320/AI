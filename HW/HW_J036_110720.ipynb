{
  "nbformat": 4,
  "nbformat_minor": 0,
  "metadata": {
    "kernelspec": {
      "display_name": "Python 3",
      "language": "python",
      "name": "python3"
    },
    "language_info": {
      "codemirror_mode": {
        "name": "ipython",
        "version": 3
      },
      "file_extension": ".py",
      "mimetype": "text/x-python",
      "name": "python",
      "nbconvert_exporter": "python",
      "pygments_lexer": "ipython3",
      "version": "3.7.7"
    },
    "colab": {
      "name": "HW_J036_110720.ipynb",
      "provenance": []
    }
  },
  "cells": [
    {
      "cell_type": "code",
      "metadata": {
        "id": "PqYY7nb4P7-C",
        "colab_type": "code",
        "colab": {}
      },
      "source": [
        "import numpy as np\n",
        "import pandas as pd\n",
        "import seaborn as sns\n",
        "import matplotlib.pyplot as plt"
      ],
      "execution_count": null,
      "outputs": []
    },
    {
      "cell_type": "code",
      "metadata": {
        "id": "RXNYFOtSP7-I",
        "colab_type": "code",
        "colab": {},
        "outputId": "9e19d84e-a4d5-4dbf-c870-1948b11e8d16"
      },
      "source": [
        "class DataRead():\n",
        "    def __init__(self,data):\n",
        "        self.file=pd.read_csv(data)\n",
        "    def rowselect(self,x1,x2):\n",
        "        print(self.file.iloc[x1])\n",
        "        print(self.file.iloc[x2])\n",
        "class DataRead2(DataRead):\n",
        "    def rowselect(self,x1,x2,x3):\n",
        "        print(self.file.iloc[x1])\n",
        "        print(self.file.iloc[x2])\n",
        "        print(self.file.iloc[x3])\n",
        "    def corellationplots(self):\n",
        "        corellation=self.file.corr()\n",
        "        sns.heatmap(corellation)\n",
        "        plt.show()\n",
        "\n",
        "        \n",
        "\n",
        "x=DataRead('D:/Downloads/titanic_1/titanic.csv')\n",
        "x.rowselect(1,2)\n",
        "y=DataRead2('D:/Downloads/titanic_1/titanic.csv')\n",
        "y.rowselect(5,6,7)\n",
        "y.corellationplots()"
      ],
      "execution_count": null,
      "outputs": [
        {
          "output_type": "stream",
          "text": [
            "PassengerId                                                    2\n",
            "Survived                                                       1\n",
            "Pclass                                                         1\n",
            "Name           Cumings, Mrs. John Bradley (Florence Briggs Th...\n",
            "Sex                                                       female\n",
            "Age                                                           38\n",
            "SibSp                                                          1\n",
            "Parch                                                          0\n",
            "Ticket                                                  PC 17599\n",
            "Fare                                                     71.2833\n",
            "Cabin                                                        C85\n",
            "Embarked                                                       C\n",
            "Name: 1, dtype: object\n",
            "PassengerId                         3\n",
            "Survived                            1\n",
            "Pclass                              3\n",
            "Name           Heikkinen, Miss. Laina\n",
            "Sex                            female\n",
            "Age                                26\n",
            "SibSp                               0\n",
            "Parch                               0\n",
            "Ticket               STON/O2. 3101282\n",
            "Fare                            7.925\n",
            "Cabin                             NaN\n",
            "Embarked                            S\n",
            "Name: 2, dtype: object\n",
            "PassengerId                   6\n",
            "Survived                      0\n",
            "Pclass                        3\n",
            "Name           Moran, Mr. James\n",
            "Sex                        male\n",
            "Age                         NaN\n",
            "SibSp                         0\n",
            "Parch                         0\n",
            "Ticket                   330877\n",
            "Fare                     8.4583\n",
            "Cabin                       NaN\n",
            "Embarked                      Q\n",
            "Name: 5, dtype: object\n",
            "PassengerId                          7\n",
            "Survived                             0\n",
            "Pclass                               1\n",
            "Name           McCarthy, Mr. Timothy J\n",
            "Sex                               male\n",
            "Age                                 54\n",
            "SibSp                                0\n",
            "Parch                                0\n",
            "Ticket                           17463\n",
            "Fare                           51.8625\n",
            "Cabin                              E46\n",
            "Embarked                             S\n",
            "Name: 6, dtype: object\n",
            "PassengerId                                 8\n",
            "Survived                                    0\n",
            "Pclass                                      3\n",
            "Name           Palsson, Master. Gosta Leonard\n",
            "Sex                                      male\n",
            "Age                                         2\n",
            "SibSp                                       3\n",
            "Parch                                       1\n",
            "Ticket                                 349909\n",
            "Fare                                   21.075\n",
            "Cabin                                     NaN\n",
            "Embarked                                    S\n",
            "Name: 7, dtype: object\n"
          ],
          "name": "stdout"
        },
        {
          "output_type": "display_data",
          "data": {
            "image/png": "[encoded data removed]",
            "text/plain": [
              "<Figure size 432x288 with 2 Axes>"
            ]
          },
          "metadata": {
            "tags": [],
            "needs_background": "light"
          }
        }
      ]
    },
    {
      "cell_type": "code",
      "metadata": {
        "id": "ZLep3-CDP7-N",
        "colab_type": "code",
        "colab": {}
      },
      "source": [
        ""
      ],
      "execution_count": null,
      "outputs": []
    }
  ]
}