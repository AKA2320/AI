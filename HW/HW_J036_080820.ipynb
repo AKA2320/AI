{
  "nbformat": 4,
  "nbformat_minor": 0,
  "metadata": {
    "colab": {
      "name": "HW_J036_080820.ipynb",
      "provenance": [],
      "collapsed_sections": [],
      "authorship_tag": "ABX9TyP7EbHlKZ+ErgK6LXtLn3zE"
    },
    "kernelspec": {
      "name": "python3",
      "display_name": "Python 3"
    }
  },
  "cells": [
    {
      "cell_type": "code",
      "metadata": {
        "id": "Vcm1bpdkJuqm",
        "colab_type": "code",
        "colab": {
          "base_uri": "https://localhost:8080/",
          "height": 134
        },
        "outputId": "869a503a-90c0-4d06-f88b-deb0703a0b69"
      },
      "source": [
        "import sys\n",
        "import heapq\n",
        "\n",
        "def solve(N,M,S,V,E) :\n",
        "\n",
        "    T = tuple(set() for _ in range(N))\n",
        "    for u,v in E :\n",
        "        T[u].add(v)\n",
        "        T[v].add(u)\n",
        "    Total, order, maxVal = sum(V), sorted(range(n), reverse=True, key=(lambda i : V[i]/S[i])), 0\n",
        "        \n",
        "    def getMax(visited, connected, rejected, size, value, rejectedValue, maxVal) :\n",
        "# print((visited, connected, rejected, size, value, rejectedValue, maxVal), file = sys.stderr)\n",
        "        if value > maxVal :\n",
        "            maxVal = value\n",
        "            \n",
        "        if not connected :\n",
        "            return maxVal\n",
        "        \n",
        "        i = getBest(connected)\n",
        "        if size + S[i] <= M :\n",
        "            maxVal = getMax(visited|{i}, (connected-{i}) | (T[i]-rejected-visited), rejected, size+S[i], value+V[i], rejectedValue, maxVal)\n",
        "            \n",
        "        if Total - (rejectedValue + V[i]) > maxVal :\n",
        "            maxVal = getMax(visited|{i}, connected-{i}, rejected | {i}, size, value, rejectedValue + V[i], maxVal)\n",
        "            \n",
        "        return maxVal\n",
        "\n",
        "    def getBest(connected) :\n",
        "        for i in order :\n",
        "            if i in connected :\n",
        "                return i\n",
        "            \n",
        "    for s in order :\n",
        "        maxVal = getMax(set(),{s},set(),0,0,0,maxVal)\n",
        "\n",
        "    return maxVal\n",
        "\n",
        "T = int(input())\n",
        "for _ in range(T) :\n",
        "    n,m = (int(_) for _ in input().split())\n",
        "    s = tuple(int(_) for _ in input().split())\n",
        "    v = tuple(int(_) for _ in input().split())\n",
        "    e = tuple((int(_)-1 for _ in input().split()) for _ in range(n-1))\n",
        "    print(solve(n,m,s,v,e))"
      ],
      "execution_count": 4,
      "outputs": [
        {
          "output_type": "stream",
          "text": [
            "1\n",
            "3 1\n",
            "1 1 1\n",
            "1 2 3\n",
            "1 2\n",
            "1 3\n",
            "3\n"
          ],
          "name": "stdout"
        }
      ]
    },
    {
      "cell_type": "code",
      "metadata": {
        "id": "pPza4j_CJ0C6",
        "colab_type": "code",
        "colab": {
          "base_uri": "https://localhost:8080/",
          "height": 168
        },
        "outputId": "74774d24-95b4-4f9c-ff16-bbc5d996dca0"
      },
      "source": [
        "T = int(input())\n",
        "for _ in range(T) :\n",
        "    n,m = (int(_) for _ in input().split())\n",
        "    s = tuple(int(_) for _ in input().split())\n",
        "    v = tuple(int(_) for _ in input().split())\n",
        "    e = tuple((int(_)-1 for _ in input().split()) for _ in range(n-1))\n",
        "    print(solve(n,m,s,v,e))"
      ],
      "execution_count": 5,
      "outputs": [
        {
          "output_type": "stream",
          "text": [
            "1\n",
            "5 3\n",
            "1 1 1 1  1\n",
            "3 5 2 2 3\n",
            "1 2 \n",
            "1 3\n",
            "2 4 \n",
            "2 5\n",
            "11\n"
          ],
          "name": "stdout"
        }
      ]
    }
  ]
}